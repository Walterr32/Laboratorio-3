{
 "cells": [
  {
   "cell_type": "markdown",
   "id": "6768949b-6ab2-46a5-b1e3-d38a0f95dbec",
   "metadata": {},
   "source": [
    "# Lab 3"
   ]
  },
  {
   "cell_type": "markdown",
   "id": "b734e9a1-ce9c-44c5-9171-ea696ed611ee",
   "metadata": {},
   "source": [
    "# Walter Reyes 23004450"
   ]
  },
  {
   "cell_type": "markdown",
   "id": "16db00c9-d1db-4ea0-8a2e-b4116b647719",
   "metadata": {},
   "source": [
    "# Parte1: Numpy "
   ]
  },
  {
   "cell_type": "markdown",
   "id": "620160b9-93ab-49ec-9c4d-db2b4d9c9360",
   "metadata": {},
   "source": [
    "# 1. ¿Cuál es el tamaño en bytes de un array de 1000 elementos de tipo booleano?"
   ]
  },
  {
   "cell_type": "code",
   "execution_count": 1,
   "id": "a3e4b16b-6bfe-4b23-b0ca-2a52abe17e29",
   "metadata": {
    "tags": []
   },
   "outputs": [],
   "source": [
    "import numpy as np"
   ]
  },
  {
   "cell_type": "code",
   "execution_count": 4,
   "id": "3de87684-5916-4358-a3bd-8991831aee1a",
   "metadata": {
    "tags": []
   },
   "outputs": [
    {
     "name": "stdout",
     "output_type": "stream",
     "text": [
      "el tamaño de bytes de un array de 1000 elementos de tipo booleano es 1000\n"
     ]
    }
   ],
   "source": [
    "tarray = 1000 * 1\n",
    "print(\"el tamaño de bytes de un array de 1000 elementos de tipo booleano es\", tarray)"
   ]
  },
  {
   "cell_type": "markdown",
   "id": "22bbb025-54e6-4cf8-83b5-7ea898ed62aa",
   "metadata": {},
   "source": [
    "# 2) Cree un array cuyos elementos sean los enteros pares en [1,100] y en orden decreciente. Muestre los 10 últimos por pantalla."
   ]
  },
  {
   "cell_type": "code",
   "execution_count": 11,
   "id": "1860ee24-64c8-4959-99f5-edd14003c1b1",
   "metadata": {
    "tags": []
   },
   "outputs": [
    {
     "data": {
      "text/plain": [
       "array([100,  98,  96,  94,  92,  90,  88,  86,  84,  82])"
      ]
     },
     "execution_count": 11,
     "metadata": {},
     "output_type": "execute_result"
    }
   ],
   "source": [
    "pares = np.arange(2, 101, 2)\n",
    "\n",
    "diez_pares = pares[-1:-11:-1]\n",
    "diez_pares"
   ]
  },
  {
   "cell_type": "markdown",
   "id": "9b057397-6be6-4562-8f4c-738eddc846a8",
   "metadata": {},
   "source": [
    "# Dado el array\n",
    "# 2 4 5 6\n",
    "# 0 3 7 4\n",
    "# 8 8 5 2\n",
    "# 1 5 6 1\n",
    "# Seleccione con una instrucción el subarray de elementos\n",
    "# 0 3 7 4\n",
    "# Después, seleccione el subarray de elementos\n",
    "# 2 5\n",
    "# 8 5"
   ]
  },
  {
   "cell_type": "code",
   "execution_count": 15,
   "id": "e976022f-2239-46c6-af21-4001d214d4f1",
   "metadata": {
    "tags": []
   },
   "outputs": [
    {
     "data": {
      "text/plain": [
       "array([[2, 4, 5, 6],\n",
       "       [0, 3, 7, 4],\n",
       "       [8, 8, 5, 2],\n",
       "       [1, 5, 6, 1]])"
      ]
     },
     "execution_count": 15,
     "metadata": {},
     "output_type": "execute_result"
    }
   ],
   "source": [
    "array = np.array([[2, 4, 5, 6],[0, 3, 7, 4],[8, 8, 5, 2],[1, 5, 6, 1]])\n",
    "array"
   ]
  },
  {
   "cell_type": "code",
   "execution_count": 17,
   "id": "111c1250-2f93-46e8-a6f8-7c7b3ca8fe33",
   "metadata": {
    "tags": []
   },
   "outputs": [
    {
     "data": {
      "text/plain": [
       "array([0, 3, 7, 4])"
      ]
     },
     "execution_count": 17,
     "metadata": {},
     "output_type": "execute_result"
    }
   ],
   "source": [
    "subarray_1 = array[1,:]\n",
    "subarray_1"
   ]
  },
  {
   "cell_type": "code",
   "execution_count": 31,
   "id": "bab2988f-8533-4604-bb28-fc5e2bad3acf",
   "metadata": {
    "tags": []
   },
   "outputs": [
    {
     "data": {
      "text/plain": [
       "array([[2, 5],\n",
       "       [8, 5]])"
      ]
     },
     "execution_count": 31,
     "metadata": {},
     "output_type": "execute_result"
    }
   ],
   "source": [
    "subarray_2 = array[[0, 2]][:, [0, 2]]\n",
    "subarray_2"
   ]
  },
  {
   "cell_type": "markdown",
   "id": "f66035d6-0d97-4be6-889c-8775fde8b60a",
   "metadata": {},
   "source": [
    "# 4) Dados los arrays a = [1, 4, 2, 7] y b = [1, 3, 2, 9], obtenga la media aritmética de la diferencia (a-b)."
   ]
  },
  {
   "cell_type": "code",
   "execution_count": 32,
   "id": "caf20991-f991-4ca4-96a9-0c6a9b28285b",
   "metadata": {
    "tags": []
   },
   "outputs": [],
   "source": [
    "a = np.array([1,4,2,7])\n",
    "b = np.array([1,3,2,9])"
   ]
  },
  {
   "cell_type": "code",
   "execution_count": 33,
   "id": "aa50a9b2-44ba-4372-a7da-dffbe295426d",
   "metadata": {
    "tags": []
   },
   "outputs": [
    {
     "name": "stdout",
     "output_type": "stream",
     "text": [
      "[ 0  1  0 -2]\n"
     ]
    }
   ],
   "source": [
    "diferencia = a-b\n",
    "print(diferencia)"
   ]
  },
  {
   "cell_type": "code",
   "execution_count": 34,
   "id": "af603cc5-97d4-4594-b155-5cfe626cc6d7",
   "metadata": {
    "tags": []
   },
   "outputs": [
    {
     "name": "stdout",
     "output_type": "stream",
     "text": [
      "-0.25\n"
     ]
    }
   ],
   "source": [
    "media_diferencia = np.mean(diferencia)\n",
    "print(media_diferencia)"
   ]
  },
  {
   "cell_type": "markdown",
   "id": "865b7911-80df-4438-bc16-7481ef33bd9e",
   "metadata": {},
   "source": [
    "# 5) Tengo valores de cordenadas (x, y) en las columnas del array 1.33 4.5 30.0 10.7 70.2 0.5 Agregue a este array las coordenadas (37.1, -3.6). Muestre en pantalla las dimensiones del nuevo array."
   ]
  },
  {
   "cell_type": "code",
   "execution_count": 37,
   "id": "f1eeffdb-ff5c-4a80-bd56-a4d8bfefdd89",
   "metadata": {
    "tags": []
   },
   "outputs": [
    {
     "name": "stdout",
     "output_type": "stream",
     "text": [
      "[[ 1.33  4.5 ]\n",
      " [30.   10.7 ]\n",
      " [70.2   0.5 ]]\n"
     ]
    }
   ],
   "source": [
    "coordenadas = np.array([[1.33, 4.5], [30.0, 10.7], [70.2, 0.5]])\n",
    "print(coordenadas)"
   ]
  },
  {
   "cell_type": "code",
   "execution_count": 39,
   "id": "ae901712-e99d-4d9c-8846-70ebfd5ef696",
   "metadata": {
    "tags": []
   },
   "outputs": [
    {
     "data": {
      "text/plain": [
       "array([37.1, -3.6])"
      ]
     },
     "execution_count": 39,
     "metadata": {},
     "output_type": "execute_result"
    }
   ],
   "source": [
    "agregado = np.array([37.1, -3.6])\n",
    "agregado"
   ]
  },
  {
   "cell_type": "code",
   "execution_count": 40,
   "id": "45750a43-6335-4b3c-ab08-ccfc9e0178ff",
   "metadata": {
    "tags": []
   },
   "outputs": [
    {
     "data": {
      "text/plain": [
       "array([[ 1.33,  4.5 ],\n",
       "       [30.  , 10.7 ],\n",
       "       [70.2 ,  0.5 ],\n",
       "       [37.1 , -3.6 ]])"
      ]
     },
     "execution_count": 40,
     "metadata": {},
     "output_type": "execute_result"
    }
   ],
   "source": [
    "n_coordenadas = np.vstack([coordenadas, agregado])\n",
    "n_coordenadas"
   ]
  },
  {
   "cell_type": "markdown",
   "id": "97f0075a-5096-472c-b4c7-2b2c8653b07e",
   "metadata": {},
   "source": [
    "# 6) Copie el array del ejercicio anterior. Traspóngalo (. Agregue ahora dos nuevos pares de coordenadas: (10.8, 3.0) y (35.8, 12.0)."
   ]
  },
  {
   "cell_type": "code",
   "execution_count": 42,
   "id": "9d850a59-d665-4b5b-b698-a9ba11a36279",
   "metadata": {
    "tags": []
   },
   "outputs": [
    {
     "data": {
      "text/plain": [
       "array([[ 1.33, 30.  , 70.2 , 37.1 ],\n",
       "       [ 4.5 , 10.7 ,  0.5 , -3.6 ]])"
      ]
     },
     "execution_count": 42,
     "metadata": {},
     "output_type": "execute_result"
    }
   ],
   "source": [
    "t_n_coordenadas = n_coordenadas.T\n",
    "t_n_coordenadas"
   ]
  },
  {
   "cell_type": "code",
   "execution_count": 44,
   "id": "7970b6fd-24ac-4667-84c8-1d7ebd0d4458",
   "metadata": {
    "tags": []
   },
   "outputs": [
    {
     "data": {
      "text/plain": [
       "array([[10.8,  3. ],\n",
       "       [35.8, 12. ]])"
      ]
     },
     "execution_count": 44,
     "metadata": {},
     "output_type": "execute_result"
    }
   ],
   "source": [
    "nuevas = np.array([[10.8, 3], [35.8, 12]])\n",
    "nuevas"
   ]
  },
  {
   "cell_type": "code",
   "execution_count": 45,
   "id": "3cb9dd9a-7432-46bb-b329-a214ff166173",
   "metadata": {
    "tags": []
   },
   "outputs": [
    {
     "data": {
      "text/plain": [
       "array([[ 1.33, 30.  , 70.2 , 37.1 , 10.8 ,  3.  ],\n",
       "       [ 4.5 , 10.7 ,  0.5 , -3.6 , 35.8 , 12.  ]])"
      ]
     },
     "execution_count": 45,
     "metadata": {},
     "output_type": "execute_result"
    }
   ],
   "source": [
    "v_coordenadas = np.hstack([t_n_coordenadas, nuevas])\n",
    "v_coordenadas"
   ]
  },
  {
   "cell_type": "markdown",
   "id": "ca4ebb9e-64bc-404a-bc67-a5a5c12a1aed",
   "metadata": {},
   "source": [
    "# parte 2: exploración y mineria de datos"
   ]
  },
  {
   "cell_type": "code",
   "execution_count": 46,
   "id": "b3b76883-d39a-44bd-a4c3-1abe933ebc62",
   "metadata": {
    "tags": []
   },
   "outputs": [],
   "source": [
    "import pandas as pd\n",
    "import matplotlib.pyplot as plt\n",
    "import numpy as np\n"
   ]
  },
  {
   "cell_type": "code",
   "execution_count": 48,
   "id": "bbd42a4a-7ecd-40f8-92fb-2f0a59315c00",
   "metadata": {
    "tags": []
   },
   "outputs": [
    {
     "data": {
      "text/html": [
       "<div>\n",
       "<style scoped>\n",
       "    .dataframe tbody tr th:only-of-type {\n",
       "        vertical-align: middle;\n",
       "    }\n",
       "\n",
       "    .dataframe tbody tr th {\n",
       "        vertical-align: top;\n",
       "    }\n",
       "\n",
       "    .dataframe thead th {\n",
       "        text-align: right;\n",
       "    }\n",
       "</style>\n",
       "<table border=\"1\" class=\"dataframe\">\n",
       "  <thead>\n",
       "    <tr style=\"text-align: right;\">\n",
       "      <th></th>\n",
       "      <th>FID</th>\n",
       "      <th>OBJECTID</th>\n",
       "      <th>Texto</th>\n",
       "      <th>Poblacion</th>\n",
       "      <th>CodMun</th>\n",
       "      <th>Municipio</th>\n",
       "      <th>CodProvin</th>\n",
       "      <th>Provincia</th>\n",
       "      <th>X</th>\n",
       "      <th>Y</th>\n",
       "    </tr>\n",
       "  </thead>\n",
       "  <tbody>\n",
       "    <tr>\n",
       "      <th>0</th>\n",
       "      <td>0</td>\n",
       "      <td>1</td>\n",
       "      <td>Agüimes</td>\n",
       "      <td>29431.0</td>\n",
       "      <td>35002</td>\n",
       "      <td>Agüimes</td>\n",
       "      <td>35</td>\n",
       "      <td>Las Palmas</td>\n",
       "      <td>-15.446012</td>\n",
       "      <td>27.900542</td>\n",
       "    </tr>\n",
       "    <tr>\n",
       "      <th>1</th>\n",
       "      <td>1</td>\n",
       "      <td>2</td>\n",
       "      <td>Antigua</td>\n",
       "      <td>10458.0</td>\n",
       "      <td>35003</td>\n",
       "      <td>Antigua</td>\n",
       "      <td>35</td>\n",
       "      <td>Las Palmas</td>\n",
       "      <td>-14.013301</td>\n",
       "      <td>28.418966</td>\n",
       "    </tr>\n",
       "    <tr>\n",
       "      <th>2</th>\n",
       "      <td>2</td>\n",
       "      <td>3</td>\n",
       "      <td>Arrecife</td>\n",
       "      <td>58156.0</td>\n",
       "      <td>35004</td>\n",
       "      <td>Arrecife</td>\n",
       "      <td>35</td>\n",
       "      <td>Las Palmas</td>\n",
       "      <td>-13.551451</td>\n",
       "      <td>28.960649</td>\n",
       "    </tr>\n",
       "    <tr>\n",
       "      <th>3</th>\n",
       "      <td>3</td>\n",
       "      <td>4</td>\n",
       "      <td>Arucas</td>\n",
       "      <td>36745.0</td>\n",
       "      <td>35006</td>\n",
       "      <td>Arucas</td>\n",
       "      <td>35</td>\n",
       "      <td>Las Palmas</td>\n",
       "      <td>-15.521512</td>\n",
       "      <td>28.117496</td>\n",
       "    </tr>\n",
       "    <tr>\n",
       "      <th>4</th>\n",
       "      <td>4</td>\n",
       "      <td>5</td>\n",
       "      <td>Gáldar</td>\n",
       "      <td>24473.0</td>\n",
       "      <td>35009</td>\n",
       "      <td>Gáldar</td>\n",
       "      <td>35</td>\n",
       "      <td>Las Palmas</td>\n",
       "      <td>-15.654111</td>\n",
       "      <td>28.143873</td>\n",
       "    </tr>\n",
       "  </tbody>\n",
       "</table>\n",
       "</div>"
      ],
      "text/plain": [
       "   FID  OBJECTID     Texto  Poblacion  CodMun Municipio  CodProvin  \\\n",
       "0    0         1   Agüimes    29431.0   35002   Agüimes         35   \n",
       "1    1         2   Antigua    10458.0   35003   Antigua         35   \n",
       "2    2         3  Arrecife    58156.0   35004  Arrecife         35   \n",
       "3    3         4    Arucas    36745.0   35006    Arucas         35   \n",
       "4    4         5    Gáldar    24473.0   35009    Gáldar         35   \n",
       "\n",
       "    Provincia          X          Y  \n",
       "0  Las Palmas -15.446012  27.900542  \n",
       "1  Las Palmas -14.013301  28.418966  \n",
       "2  Las Palmas -13.551451  28.960649  \n",
       "3  Las Palmas -15.521512  28.117496  \n",
       "4  Las Palmas -15.654111  28.143873  "
      ]
     },
     "execution_count": 48,
     "metadata": {},
     "output_type": "execute_result"
    }
   ],
   "source": [
    "\n",
    "nucleos = pd.read_csv(\"NucleosPoblacion.csv\")\n",
    "nucleos.head()"
   ]
  },
  {
   "cell_type": "markdown",
   "id": "2e797b7b-4971-4efd-9b82-bf8761f345f3",
   "metadata": {},
   "source": [
    "# 1) ¿Cuántos Municipios tienen más de 100000 habitantes?."
   ]
  },
  {
   "cell_type": "code",
   "execution_count": 51,
   "id": "93c831f7-ac8c-4d74-be49-ad06820f6163",
   "metadata": {
    "tags": []
   },
   "outputs": [
    {
     "data": {
      "text/html": [
       "<div>\n",
       "<style scoped>\n",
       "    .dataframe tbody tr th:only-of-type {\n",
       "        vertical-align: middle;\n",
       "    }\n",
       "\n",
       "    .dataframe tbody tr th {\n",
       "        vertical-align: top;\n",
       "    }\n",
       "\n",
       "    .dataframe thead th {\n",
       "        text-align: right;\n",
       "    }\n",
       "</style>\n",
       "<table border=\"1\" class=\"dataframe\">\n",
       "  <thead>\n",
       "    <tr style=\"text-align: right;\">\n",
       "      <th></th>\n",
       "      <th>FID</th>\n",
       "      <th>OBJECTID</th>\n",
       "      <th>Texto</th>\n",
       "      <th>Poblacion</th>\n",
       "      <th>CodMun</th>\n",
       "      <th>Municipio</th>\n",
       "      <th>CodProvin</th>\n",
       "      <th>Provincia</th>\n",
       "      <th>X</th>\n",
       "      <th>Y</th>\n",
       "    </tr>\n",
       "  </thead>\n",
       "  <tbody>\n",
       "    <tr>\n",
       "      <th>9</th>\n",
       "      <td>9</td>\n",
       "      <td>10</td>\n",
       "      <td>Las Palmas de Gran Canaria</td>\n",
       "      <td>383308.0</td>\n",
       "      <td>35016</td>\n",
       "      <td>Las Palmas de Gran Canaria</td>\n",
       "      <td>35</td>\n",
       "      <td>Las Palmas</td>\n",
       "      <td>-15.413387</td>\n",
       "      <td>28.099775</td>\n",
       "    </tr>\n",
       "    <tr>\n",
       "      <th>16</th>\n",
       "      <td>16</td>\n",
       "      <td>17</td>\n",
       "      <td>Telde</td>\n",
       "      <td>100900.0</td>\n",
       "      <td>35026</td>\n",
       "      <td>Telde</td>\n",
       "      <td>35</td>\n",
       "      <td>Las Palmas</td>\n",
       "      <td>-15.416666</td>\n",
       "      <td>27.994202</td>\n",
       "    </tr>\n",
       "    <tr>\n",
       "      <th>28</th>\n",
       "      <td>28</td>\n",
       "      <td>29</td>\n",
       "      <td>San Cristóbal de La Laguna</td>\n",
       "      <td>152222.0</td>\n",
       "      <td>38023</td>\n",
       "      <td>San Cristóbal de La Laguna</td>\n",
       "      <td>38</td>\n",
       "      <td>Santa Cruz de Tenerife</td>\n",
       "      <td>-16.314721</td>\n",
       "      <td>28.487893</td>\n",
       "    </tr>\n",
       "    <tr>\n",
       "      <th>40</th>\n",
       "      <td>40</td>\n",
       "      <td>41</td>\n",
       "      <td>Santa Cruz de Tenerife</td>\n",
       "      <td>222643.0</td>\n",
       "      <td>38038</td>\n",
       "      <td>Santa Cruz de Tenerife</td>\n",
       "      <td>38</td>\n",
       "      <td>Santa Cruz de Tenerife</td>\n",
       "      <td>-16.247264</td>\n",
       "      <td>28.463257</td>\n",
       "    </tr>\n",
       "    <tr>\n",
       "      <th>42</th>\n",
       "      <td>42</td>\n",
       "      <td>43</td>\n",
       "      <td>Badajoz</td>\n",
       "      <td>150376.0</td>\n",
       "      <td>6015</td>\n",
       "      <td>Badajoz</td>\n",
       "      <td>6</td>\n",
       "      <td>Badajoz</td>\n",
       "      <td>-6.970997</td>\n",
       "      <td>38.878743</td>\n",
       "    </tr>\n",
       "    <tr>\n",
       "      <th>...</th>\n",
       "      <td>...</td>\n",
       "      <td>...</td>\n",
       "      <td>...</td>\n",
       "      <td>...</td>\n",
       "      <td>...</td>\n",
       "      <td>...</td>\n",
       "      <td>...</td>\n",
       "      <td>...</td>\n",
       "      <td>...</td>\n",
       "      <td>...</td>\n",
       "    </tr>\n",
       "    <tr>\n",
       "      <th>683</th>\n",
       "      <td>683</td>\n",
       "      <td>684</td>\n",
       "      <td>Santa Coloma de Gramenet</td>\n",
       "      <td>120060.0</td>\n",
       "      <td>8245</td>\n",
       "      <td>Santa Coloma de Gramenet</td>\n",
       "      <td>8</td>\n",
       "      <td>Barcelona</td>\n",
       "      <td>2.212155</td>\n",
       "      <td>41.453657</td>\n",
       "    </tr>\n",
       "    <tr>\n",
       "      <th>689</th>\n",
       "      <td>689</td>\n",
       "      <td>690</td>\n",
       "      <td>Terrassa</td>\n",
       "      <td>212724.0</td>\n",
       "      <td>8279</td>\n",
       "      <td>Terrassa</td>\n",
       "      <td>8</td>\n",
       "      <td>Barcelona</td>\n",
       "      <td>2.012151</td>\n",
       "      <td>41.562363</td>\n",
       "    </tr>\n",
       "    <tr>\n",
       "      <th>725</th>\n",
       "      <td>725</td>\n",
       "      <td>726</td>\n",
       "      <td>Lleida</td>\n",
       "      <td>137387.0</td>\n",
       "      <td>25120</td>\n",
       "      <td>Lleida</td>\n",
       "      <td>25</td>\n",
       "      <td>Lleida</td>\n",
       "      <td>0.620619</td>\n",
       "      <td>41.615274</td>\n",
       "    </tr>\n",
       "    <tr>\n",
       "      <th>735</th>\n",
       "      <td>735</td>\n",
       "      <td>736</td>\n",
       "      <td>Reus</td>\n",
       "      <td>106622.0</td>\n",
       "      <td>43123</td>\n",
       "      <td>Reus</td>\n",
       "      <td>43</td>\n",
       "      <td>Tarragona</td>\n",
       "      <td>1.109861</td>\n",
       "      <td>41.154107</td>\n",
       "    </tr>\n",
       "    <tr>\n",
       "      <th>737</th>\n",
       "      <td>737</td>\n",
       "      <td>738</td>\n",
       "      <td>Tarragona</td>\n",
       "      <td>140184.0</td>\n",
       "      <td>43148</td>\n",
       "      <td>Tarragona</td>\n",
       "      <td>43</td>\n",
       "      <td>Tarragona</td>\n",
       "      <td>1.258422</td>\n",
       "      <td>41.119103</td>\n",
       "    </tr>\n",
       "  </tbody>\n",
       "</table>\n",
       "<p>62 rows × 10 columns</p>\n",
       "</div>"
      ],
      "text/plain": [
       "     FID  OBJECTID                       Texto  Poblacion  CodMun  \\\n",
       "9      9        10  Las Palmas de Gran Canaria   383308.0   35016   \n",
       "16    16        17                       Telde   100900.0   35026   \n",
       "28    28        29  San Cristóbal de La Laguna   152222.0   38023   \n",
       "40    40        41      Santa Cruz de Tenerife   222643.0   38038   \n",
       "42    42        43                     Badajoz   150376.0    6015   \n",
       "..   ...       ...                         ...        ...     ...   \n",
       "683  683       684    Santa Coloma de Gramenet   120060.0    8245   \n",
       "689  689       690                    Terrassa   212724.0    8279   \n",
       "725  725       726                      Lleida   137387.0   25120   \n",
       "735  735       736                        Reus   106622.0   43123   \n",
       "737  737       738                   Tarragona   140184.0   43148   \n",
       "\n",
       "                      Municipio  CodProvin               Provincia          X  \\\n",
       "9    Las Palmas de Gran Canaria         35              Las Palmas -15.413387   \n",
       "16                        Telde         35              Las Palmas -15.416666   \n",
       "28   San Cristóbal de La Laguna         38  Santa Cruz de Tenerife -16.314721   \n",
       "40       Santa Cruz de Tenerife         38  Santa Cruz de Tenerife -16.247264   \n",
       "42                      Badajoz          6                 Badajoz  -6.970997   \n",
       "..                          ...        ...                     ...        ...   \n",
       "683    Santa Coloma de Gramenet          8               Barcelona   2.212155   \n",
       "689                    Terrassa          8               Barcelona   2.012151   \n",
       "725                      Lleida         25                  Lleida   0.620619   \n",
       "735                        Reus         43               Tarragona   1.109861   \n",
       "737                   Tarragona         43               Tarragona   1.258422   \n",
       "\n",
       "             Y  \n",
       "9    28.099775  \n",
       "16   27.994202  \n",
       "28   28.487893  \n",
       "40   28.463257  \n",
       "42   38.878743  \n",
       "..         ...  \n",
       "683  41.453657  \n",
       "689  41.562363  \n",
       "725  41.615274  \n",
       "735  41.154107  \n",
       "737  41.119103  \n",
       "\n",
       "[62 rows x 10 columns]"
      ]
     },
     "execution_count": 51,
     "metadata": {},
     "output_type": "execute_result"
    }
   ],
   "source": [
    "Muni = nucleos[nucleos[\"Poblacion\"]>100000]\n",
    "Muni"
   ]
  },
  {
   "cell_type": "code",
   "execution_count": 53,
   "id": "71f16af2-ed16-4de4-852d-98ea3d49fb32",
   "metadata": {
    "tags": []
   },
   "outputs": [
    {
     "data": {
      "text/plain": [
       "62"
      ]
     },
     "execution_count": 53,
     "metadata": {},
     "output_type": "execute_result"
    }
   ],
   "source": [
    "longitud_Muni = len(Muni)\n",
    "longitud_Muni"
   ]
  },
  {
   "cell_type": "markdown",
   "id": "b492d000-a808-4901-a312-59350d571aa3",
   "metadata": {},
   "source": [
    "# Hay 62 municipios con más de 100,000 habitantes"
   ]
  },
  {
   "cell_type": "markdown",
   "id": "65a65800-1417-4ae9-87b9-b2fbf7a612f0",
   "metadata": {},
   "source": [
    "# 2) Realice una gráfica de barras sobre la polbación de cada ciudad, ordenela de menor a mayo y responda:\n",
    "# a. ¿Cuál es la segunda ciudad más poblada?\n",
    "# b. ¿Qué posición ocupa Granada en el ranking de las ciudades más pobladas?"
   ]
  },
  {
   "cell_type": "code",
   "execution_count": 58,
   "id": "5700d367-e8ab-4459-836f-f70dbebd25a9",
   "metadata": {
    "tags": []
   },
   "outputs": [
    {
     "data": {
      "image/png": "[encoded data removed]",
      "text/plain": [
       "<Figure size 1000x1000 with 1 Axes>"
      ]
     },
     "metadata": {},
     "output_type": "display_data"
    }
   ],
   "source": [
    "nucleos.rename(columns={'Texto': 'Ciudad'}, inplace=True)\n",
    "nucleos['Ciudad'].unique()\n",
    "\n",
    "poblacion = nucleos.groupby('Ciudad')['Poblacion'].sum()\n",
    "poblacion = poblacion.nlargest(20)\n",
    "x = list(poblacion.index)\n",
    "plt.figure(figsize=(10,10))\n",
    "plt.bar(x, poblacion)\n",
    "plt.title(\"Población por ciudad\")\n",
    "plt.xlabel(\"Ciudad\")\n",
    "plt.ylabel(\"Cantidad de habitantes\")\n",
    "plt.xticks(rotation=90)\n",
    "plt.show()\n"
   ]
  },
  {
   "cell_type": "markdown",
   "id": "3631a706-989e-4ca5-9463-db234bbbf1b5",
   "metadata": {},
   "source": [
    "# a. La ciudad más poblada es Madrid\n",
    "# b. Granada ocupa la posicipon número 18"
   ]
  },
  {
   "cell_type": "markdown",
   "id": "48606f45-5757-49a2-90f1-f2f4d8557720",
   "metadata": {},
   "source": [
    "# 3) ¿Cuántos municipios de Navarra tienen más de 5000 habitantes?."
   ]
  },
  {
   "cell_type": "code",
   "execution_count": 66,
   "id": "234d8a2f-d8bd-4d9a-b47a-4f5e5ca72e11",
   "metadata": {
    "tags": []
   },
   "outputs": [
    {
     "data": {
      "text/html": [
       "<div>\n",
       "<style scoped>\n",
       "    .dataframe tbody tr th:only-of-type {\n",
       "        vertical-align: middle;\n",
       "    }\n",
       "\n",
       "    .dataframe tbody tr th {\n",
       "        vertical-align: top;\n",
       "    }\n",
       "\n",
       "    .dataframe thead th {\n",
       "        text-align: right;\n",
       "    }\n",
       "</style>\n",
       "<table border=\"1\" class=\"dataframe\">\n",
       "  <thead>\n",
       "    <tr style=\"text-align: right;\">\n",
       "      <th></th>\n",
       "      <th>FID</th>\n",
       "      <th>OBJECTID</th>\n",
       "      <th>Ciudad</th>\n",
       "      <th>Poblacion</th>\n",
       "      <th>CodMun</th>\n",
       "      <th>Municipio</th>\n",
       "      <th>CodProvin</th>\n",
       "      <th>Provincia</th>\n",
       "      <th>X</th>\n",
       "      <th>Y</th>\n",
       "    </tr>\n",
       "  </thead>\n",
       "  <tbody>\n",
       "    <tr>\n",
       "      <th>416</th>\n",
       "      <td>416</td>\n",
       "      <td>417</td>\n",
       "      <td>Lorca</td>\n",
       "      <td>92694.0</td>\n",
       "      <td>31260</td>\n",
       "      <td>Lorca</td>\n",
       "      <td>31</td>\n",
       "      <td>Navarra</td>\n",
       "      <td>-1.945780</td>\n",
       "      <td>42.672363</td>\n",
       "    </tr>\n",
       "    <tr>\n",
       "      <th>431</th>\n",
       "      <td>431</td>\n",
       "      <td>432</td>\n",
       "      <td>Ansoáin/Antsoain</td>\n",
       "      <td>10603.0</td>\n",
       "      <td>31016</td>\n",
       "      <td>Ansoáin/Antsoain</td>\n",
       "      <td>31</td>\n",
       "      <td>Navarra</td>\n",
       "      <td>-1.693157</td>\n",
       "      <td>42.852590</td>\n",
       "    </tr>\n",
       "    <tr>\n",
       "      <th>432</th>\n",
       "      <td>432</td>\n",
       "      <td>433</td>\n",
       "      <td>Burlada/Burlata</td>\n",
       "      <td>18389.0</td>\n",
       "      <td>31060</td>\n",
       "      <td>Burlada/Burlata</td>\n",
       "      <td>31</td>\n",
       "      <td>Navarra</td>\n",
       "      <td>-1.616422</td>\n",
       "      <td>42.825006</td>\n",
       "    </tr>\n",
       "    <tr>\n",
       "      <th>433</th>\n",
       "      <td>433</td>\n",
       "      <td>434</td>\n",
       "      <td>Egüés</td>\n",
       "      <td>14354.0</td>\n",
       "      <td>31086</td>\n",
       "      <td>Egüés</td>\n",
       "      <td>31</td>\n",
       "      <td>Navarra</td>\n",
       "      <td>-1.551585</td>\n",
       "      <td>42.824923</td>\n",
       "    </tr>\n",
       "    <tr>\n",
       "      <th>434</th>\n",
       "      <td>434</td>\n",
       "      <td>435</td>\n",
       "      <td>Estella/Lizarra</td>\n",
       "      <td>14207.0</td>\n",
       "      <td>31097</td>\n",
       "      <td>Estella/Lizarra</td>\n",
       "      <td>31</td>\n",
       "      <td>Navarra</td>\n",
       "      <td>-2.031399</td>\n",
       "      <td>42.671849</td>\n",
       "    </tr>\n",
       "    <tr>\n",
       "      <th>435</th>\n",
       "      <td>435</td>\n",
       "      <td>436</td>\n",
       "      <td>Pamplona/Iruña</td>\n",
       "      <td>197488.0</td>\n",
       "      <td>31201</td>\n",
       "      <td>Pamplona/Iruña</td>\n",
       "      <td>31</td>\n",
       "      <td>Navarra</td>\n",
       "      <td>-1.645153</td>\n",
       "      <td>42.814102</td>\n",
       "    </tr>\n",
       "    <tr>\n",
       "      <th>436</th>\n",
       "      <td>436</td>\n",
       "      <td>437</td>\n",
       "      <td>Tafalla</td>\n",
       "      <td>11413.0</td>\n",
       "      <td>31227</td>\n",
       "      <td>Tafalla</td>\n",
       "      <td>31</td>\n",
       "      <td>Navarra</td>\n",
       "      <td>-1.677142</td>\n",
       "      <td>42.528313</td>\n",
       "    </tr>\n",
       "    <tr>\n",
       "      <th>437</th>\n",
       "      <td>437</td>\n",
       "      <td>438</td>\n",
       "      <td>Tudela</td>\n",
       "      <td>35268.0</td>\n",
       "      <td>31232</td>\n",
       "      <td>Tudela</td>\n",
       "      <td>31</td>\n",
       "      <td>Navarra</td>\n",
       "      <td>-1.605781</td>\n",
       "      <td>42.063464</td>\n",
       "    </tr>\n",
       "    <tr>\n",
       "      <th>438</th>\n",
       "      <td>438</td>\n",
       "      <td>439</td>\n",
       "      <td>Villava/Atarrabia</td>\n",
       "      <td>10568.0</td>\n",
       "      <td>31258</td>\n",
       "      <td>Villava/Atarrabia</td>\n",
       "      <td>31</td>\n",
       "      <td>Navarra</td>\n",
       "      <td>-1.606458</td>\n",
       "      <td>42.830162</td>\n",
       "    </tr>\n",
       "    <tr>\n",
       "      <th>439</th>\n",
       "      <td>439</td>\n",
       "      <td>440</td>\n",
       "      <td>Barañain</td>\n",
       "      <td>21705.0</td>\n",
       "      <td>31901</td>\n",
       "      <td>Barañain</td>\n",
       "      <td>31</td>\n",
       "      <td>Navarra</td>\n",
       "      <td>-1.686580</td>\n",
       "      <td>42.804941</td>\n",
       "    </tr>\n",
       "    <tr>\n",
       "      <th>440</th>\n",
       "      <td>440</td>\n",
       "      <td>441</td>\n",
       "      <td>Zizur Mayor/Zizur Nagusia</td>\n",
       "      <td>13316.0</td>\n",
       "      <td>31907</td>\n",
       "      <td>Zizur Mayor/Zizur Nagusia</td>\n",
       "      <td>31</td>\n",
       "      <td>Navarra</td>\n",
       "      <td>-1.695028</td>\n",
       "      <td>42.793430</td>\n",
       "    </tr>\n",
       "  </tbody>\n",
       "</table>\n",
       "</div>"
      ],
      "text/plain": [
       "     FID  OBJECTID                     Ciudad  Poblacion  CodMun  \\\n",
       "416  416       417                      Lorca    92694.0   31260   \n",
       "431  431       432           Ansoáin/Antsoain    10603.0   31016   \n",
       "432  432       433            Burlada/Burlata    18389.0   31060   \n",
       "433  433       434                      Egüés    14354.0   31086   \n",
       "434  434       435            Estella/Lizarra    14207.0   31097   \n",
       "435  435       436             Pamplona/Iruña   197488.0   31201   \n",
       "436  436       437                    Tafalla    11413.0   31227   \n",
       "437  437       438                     Tudela    35268.0   31232   \n",
       "438  438       439          Villava/Atarrabia    10568.0   31258   \n",
       "439  439       440                   Barañain    21705.0   31901   \n",
       "440  440       441  Zizur Mayor/Zizur Nagusia    13316.0   31907   \n",
       "\n",
       "                     Municipio  CodProvin Provincia         X          Y  \n",
       "416                      Lorca         31   Navarra -1.945780  42.672363  \n",
       "431           Ansoáin/Antsoain         31   Navarra -1.693157  42.852590  \n",
       "432            Burlada/Burlata         31   Navarra -1.616422  42.825006  \n",
       "433                      Egüés         31   Navarra -1.551585  42.824923  \n",
       "434            Estella/Lizarra         31   Navarra -2.031399  42.671849  \n",
       "435             Pamplona/Iruña         31   Navarra -1.645153  42.814102  \n",
       "436                    Tafalla         31   Navarra -1.677142  42.528313  \n",
       "437                     Tudela         31   Navarra -1.605781  42.063464  \n",
       "438          Villava/Atarrabia         31   Navarra -1.606458  42.830162  \n",
       "439                   Barañain         31   Navarra -1.686580  42.804941  \n",
       "440  Zizur Mayor/Zizur Nagusia         31   Navarra -1.695028  42.793430  "
      ]
     },
     "execution_count": 66,
     "metadata": {},
     "output_type": "execute_result"
    }
   ],
   "source": [
    "Muni_navarra = (nucleos[(nucleos['Poblacion'] > 5000) & (nucleos[\"Provincia\"]== \"Navarra\")])\n",
    "Muni_navarra"
   ]
  },
  {
   "cell_type": "code",
   "execution_count": 67,
   "id": "00ea589c-d2b8-4963-a09c-cb6acab96cd0",
   "metadata": {
    "tags": []
   },
   "outputs": [
    {
     "data": {
      "text/plain": [
       "11"
      ]
     },
     "execution_count": 67,
     "metadata": {},
     "output_type": "execute_result"
    }
   ],
   "source": [
    "len(Muni_navarra)"
   ]
  },
  {
   "cell_type": "markdown",
   "id": "0eabaf08-5259-4f25-99a9-36e89581fb70",
   "metadata": {},
   "source": [
    "# Hay 11 municipios de navarra con más de 5000 habitantes"
   ]
  },
  {
   "cell_type": "markdown",
   "id": "b1a5a761-48ff-44d8-a9fd-d6446faa465d",
   "metadata": {},
   "source": [
    "# 4) ¿Cuál es el municipio situado más al Norte? (Usar el valor de la coordenada \"Y\" que representa la latitud en grados). Proporcione también la provincia a la que pertenece y su población."
   ]
  },
  {
   "cell_type": "code",
   "execution_count": 71,
   "id": "9fdf7afb-3b48-487d-9d52-a9381202063d",
   "metadata": {
    "tags": []
   },
   "outputs": [
    {
     "name": "stdout",
     "output_type": "stream",
     "text": [
      "El municipio más situado al norte es  Viveiro  de la provincia Lugo, con un total de pobación de 16211.0\n"
     ]
    },
    {
     "data": {
      "image/png": "[encoded data removed]",
      "text/plain": [
       "<Figure size 640x480 with 1 Axes>"
      ]
     },
     "metadata": {},
     "output_type": "display_data"
    }
   ],
   "source": [
    "plt.scatter(x=nucleos['X'], y=nucleos['Y'])\n",
    "latitudmax = nucleos.loc[nucleos['Y'].idxmax()]\n",
    "municipio = latitudmax['Municipio']\n",
    "prinvicia = latitudmax['Provincia']\n",
    "poblacion_1 = latitudmax['Poblacion']\n",
    "print(f\"El municipio más situado al norte es  {municipio}  de la provincia {prinvicia}, con un total de pobación de {poblacion_1}\")"
   ]
  },
  {
   "cell_type": "markdown",
   "id": "2c06a5a5-4532-432e-9602-9225764f439d",
   "metadata": {},
   "source": [
    "# 5. Obtenga la media, mediana, desviación estándar, valor máximo y valor mínimo de la población de los municipios de la provincia de Granada."
   ]
  },
  {
   "cell_type": "code",
   "execution_count": 75,
   "id": "156b5bcb-bace-4f27-828f-f8bdd26b7520",
   "metadata": {
    "tags": []
   },
   "outputs": [
    {
     "data": {
      "text/plain": [
       "count        20.000000\n",
       "mean      30217.850000\n",
       "std       50355.491715\n",
       "min       10386.000000\n",
       "25%       13146.500000\n",
       "50%       17526.000000\n",
       "75%       21739.750000\n",
       "max      239154.000000\n",
       "Name: Poblacion, dtype: float64"
      ]
     },
     "execution_count": 75,
     "metadata": {},
     "output_type": "execute_result"
    }
   ],
   "source": [
    "Muni_Granada = nucleos[nucleos[\"Provincia\"] == \"Granada\"]\n",
    "est_Granada = Muni_Granada[\"Poblacion\"].describe()\n",
    "est_Granada"
   ]
  },
  {
   "cell_type": "markdown",
   "id": "6035de52-a08a-436e-a68a-798a429c0d03",
   "metadata": {},
   "source": [
    "# 6) Realice un histograma con la población de los  Municipios para cada una de las provincias."
   ]
  },
  {
   "cell_type": "code",
   "execution_count": 79,
   "id": "0e9f247e-4009-4e95-97df-35c5ec6a5c99",
   "metadata": {
    "tags": []
   },
   "outputs": [
    {
     "data": {
      "image/png": "[encoded data removed]",
      "text/plain": [
       "<Figure size 1200x800 with 1 Axes>"
      ]
     },
     "metadata": {},
     "output_type": "display_data"
    }
   ],
   "source": [
    "plt.figure(figsize=(12, 8))\n",
    "for provincia in nucleos['Provincia'].unique():\n",
    "    poblacion_provincia = nucleos[nucleos['Provincia'] == provincia]['Poblacion']\n",
    "    plt.hist(poblacion_provincia, bins=20, alpha=0.5, label=provincia)\n",
    "\n",
    "plt.xlabel('Población')\n",
    "plt.ylabel('Frecuencia')\n",
    "plt.title('Histograma de la población de los municipios por provincia')\n",
    "plt.grid(True)\n",
    "plt.xticks(rotation=90)\n",
    "plt.tight_layout()\n",
    "plt.show()"
   ]
  },
  {
   "cell_type": "markdown",
   "id": "c9eec050-be0f-4b26-9992-fa41649331dc",
   "metadata": {},
   "source": [
    "# 7) Seleccione al azar cincuenta municipios diferentes de entre los diponibles en el archivo. Asegúrese de que no se repitan. ¿Luego calcule el promedio de la población y la desviación estándar de esto 50 municipios?."
   ]
  },
  {
   "cell_type": "code",
   "execution_count": 83,
   "id": "ddd6ecfe-7ccf-4107-93f6-29889e9706c5",
   "metadata": {
    "tags": []
   },
   "outputs": [
    {
     "name": "stdout",
     "output_type": "stream",
     "text": [
      "110736.36\n",
      "460146.9254780793\n"
     ]
    }
   ],
   "source": [
    "Muni_ale = nucleos.sample( n = 50, replace = False)\n",
    "promedio_Muni_ale = Muni_ale[\"Poblacion\"].mean()\n",
    "desviacion_Muni_ale = Muni_ale[\"Poblacion\"].std()\n",
    "\n",
    "print(promedio_Muni_ale)\n",
    "print(desviacion_Muni_ale)"
   ]
  }
 ],
 "metadata": {
  "kernelspec": {
   "display_name": "Python 3 (ipykernel)",
   "language": "python",
   "name": "python3"
  },
  "language_info": {
   "codemirror_mode": {
    "name": "ipython",
    "version": 3
   },
   "file_extension": ".py",
   "mimetype": "text/x-python",
   "name": "python",
   "nbconvert_exporter": "python",
   "pygments_lexer": "ipython3",
   "version": "3.11.5"
  }
 },
 "nbformat": 4,
 "nbformat_minor": 5
}
